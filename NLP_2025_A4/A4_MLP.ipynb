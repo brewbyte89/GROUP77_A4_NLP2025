{
 "cells": [
  {
   "cell_type": "code",
   "execution_count": 1,
   "metadata": {},
   "outputs": [
    {
     "name": "stdout",
     "output_type": "stream",
     "text": [
      "Requirement already satisfied: nltk in /usr/local/lib/python3.11/site-packages (3.8.1)\n",
      "Requirement already satisfied: click in /usr/local/lib/python3.11/site-packages (from nltk) (8.1.7)\n",
      "Requirement already satisfied: joblib in /usr/local/lib/python3.11/site-packages (from nltk) (1.3.2)\n",
      "Requirement already satisfied: regex>=2021.8.3 in /usr/local/lib/python3.11/site-packages (from nltk) (2023.12.25)\n",
      "Requirement already satisfied: tqdm in /usr/local/lib/python3.11/site-packages (from nltk) (4.66.1)\n",
      "\n",
      "\u001b[1m[\u001b[0m\u001b[34;49mnotice\u001b[0m\u001b[1;39;49m]\u001b[0m\u001b[39;49m A new release of pip is available: \u001b[0m\u001b[31;49m24.2\u001b[0m\u001b[39;49m -> \u001b[0m\u001b[32;49m25.1.1\u001b[0m\n",
      "\u001b[1m[\u001b[0m\u001b[34;49mnotice\u001b[0m\u001b[1;39;49m]\u001b[0m\u001b[39;49m To update, run: \u001b[0m\u001b[32;49mpython3.11 -m pip install --upgrade pip\u001b[0m\n"
     ]
    }
   ],
   "source": [
    "!pip install nltk"
   ]
  },
  {
   "cell_type": "code",
   "execution_count": 2,
   "metadata": {},
   "outputs": [
    {
     "name": "stdout",
     "output_type": "stream",
     "text": [
      "Requirement already satisfied: matplotlib in /usr/local/lib/python3.11/site-packages (3.7.2)\n",
      "Requirement already satisfied: contourpy>=1.0.1 in /usr/local/lib/python3.11/site-packages (from matplotlib) (1.1.0)\n",
      "Requirement already satisfied: cycler>=0.10 in /usr/local/lib/python3.11/site-packages (from matplotlib) (0.11.0)\n",
      "Requirement already satisfied: fonttools>=4.22.0 in /usr/local/lib/python3.11/site-packages (from matplotlib) (4.42.1)\n",
      "Requirement already satisfied: kiwisolver>=1.0.1 in /usr/local/lib/python3.11/site-packages (from matplotlib) (1.4.5)\n",
      "Requirement already satisfied: numpy>=1.20 in /usr/local/lib/python3.11/site-packages (from matplotlib) (1.24.0)\n",
      "Requirement already satisfied: packaging>=20.0 in /usr/local/lib/python3.11/site-packages (from matplotlib) (23.2)\n",
      "Requirement already satisfied: pillow>=6.2.0 in /usr/local/lib/python3.11/site-packages (from matplotlib) (10.0.0)\n",
      "Requirement already satisfied: pyparsing<3.1,>=2.3.1 in /usr/local/lib/python3.11/site-packages (from matplotlib) (3.0.9)\n",
      "Requirement already satisfied: python-dateutil>=2.7 in /usr/local/lib/python3.11/site-packages (from matplotlib) (2.8.2)\n",
      "Requirement already satisfied: six>=1.5 in /usr/local/lib/python3.11/site-packages (from python-dateutil>=2.7->matplotlib) (1.16.0)\n",
      "\n",
      "\u001b[1m[\u001b[0m\u001b[34;49mnotice\u001b[0m\u001b[1;39;49m]\u001b[0m\u001b[39;49m A new release of pip is available: \u001b[0m\u001b[31;49m24.2\u001b[0m\u001b[39;49m -> \u001b[0m\u001b[32;49m25.1.1\u001b[0m\n",
      "\u001b[1m[\u001b[0m\u001b[34;49mnotice\u001b[0m\u001b[1;39;49m]\u001b[0m\u001b[39;49m To update, run: \u001b[0m\u001b[32;49mpython3.11 -m pip install --upgrade pip\u001b[0m\n"
     ]
    }
   ],
   "source": [
    "!pip install matplotlib"
   ]
  },
  {
   "cell_type": "code",
   "execution_count": 3,
   "metadata": {},
   "outputs": [
    {
     "name": "stderr",
     "output_type": "stream",
     "text": [
      "[nltk_data] Downloading package brown to /Users/anonymous/nltk_data...\n",
      "[nltk_data]   Package brown is already up-to-date!\n"
     ]
    }
   ],
   "source": [
    "import torch\n",
    "from torch import nn\n",
    "from torch.utils.data import Dataset, DataLoader, random_split\n",
    "import nltk, string, random, numpy, os\n",
    "import matplotlib.pyplot as plt\n",
    "from typing import List\n",
    "from nltk.corpus import brown\n",
    "os.makedirs('./results', exist_ok=True)\n",
    "nltk.download('brown')\n",
    "random.seed(42)\n",
    "torch.manual_seed(42)\n",
    "numpy.random.seed(42)"
   ]
  },
  {
   "cell_type": "markdown",
   "metadata": {},
   "source": [
    "### Introduction\n",
    "In the warm-up of this assignment, we will see how Neural Networks (NN) handle natural language data.   \n",
    "The warm-up focuses on a simple Multilayer Perceptron (MLP), also known as a fully connected Neural Network. The data we'll use is the first 5000 unique words of the Brown corpus.\n",
    "\n",
    "### Dataset\n",
    "To train the model, we will have to represent the input words to the model in some way. Since models solely work with numbers, the words will have to be converted into numerical form.  \n",
    "For this assignment, we will focus on predicting individual words from the dataset given the input of the model. The input will be the target word split up into individual letters. To represent these individual letters we will give the model a vector of 26 positions (26 letters in the English alphabet). Initially, this vector is filled with zeros and for every occuring letter in the word we change the value to 1 in that position. For instance, in the word `apple', we have 1 a, 1 e, 1 l and 2 p. The vector will then represent the word as:  \n",
    "```[1,0,0,0,1,0,0,0,0,0,0,1,0,0,0,2,0,0,0,0,0,0,0,0,0,0]```  \n",
    "You will have to implement this algorithm together with loading the Brown dataset and taking the first 5000 unique words. Implement a way to store the indexes of the unique words as a dictionary where the word is the key and the index is the value as well as the target list (which will be just the indexes of the words)."
   ]
  },
  {
   "cell_type": "markdown",
   "metadata": {},
   "source": [
    "main task translation = give 26 positions vector that indicates letters consisted in word, no positional vector, make NN spell the word like doing scrabble. <br> \n",
    "also do = create storage of the index of these words, where key = word, value = index <br>\n",
    "also do = target list -> [indexes of words]"
   ]
  },
  {
   "cell_type": "code",
   "execution_count": 4,
   "metadata": {},
   "outputs": [],
   "source": [
    "class AlphaDataset(Dataset):\n",
    "    def __init__(self) -> None:\n",
    "        # Load the NLTK Brown corpus and store the first 5000 unique words of the corpus in self.data\n",
    "        words = brown.words()\n",
    "        lowercase_words = [word.lower() for word in words] # Convert all words to lowercase\n",
    "        seen = set()\n",
    "        unique_words = [] # Create a list of unique words\n",
    "        for word in lowercase_words:\n",
    "            if word not in seen and len(word) > 1 and all(letter in string.ascii_lowercase for letter in word):\n",
    "                unique_words.append(word)\n",
    "                seen.add(word)\n",
    "            if len(unique_words) == 5000:\n",
    "                break\n",
    "    \n",
    "        self.data = unique_words # Load the first 5000 words from the Brown corpus\n",
    "        self.word_to_idx = {word: idx for idx, word in enumerate(self.data)} # Convert the unique words to an index dictionary {word: index}\n",
    "        self.targets = list(range(len(self.data))) # Make these indexes the target values\n",
    "\n",
    "\n",
    "    def __len__(self) -> int:\n",
    "        # Torch requires the implementation of the length function to calculate the number of instances in the dataset. Find a way to implement this\n",
    "        return len(self.data)\n",
    "\n",
    "    def __getitem__(self, index):\n",
    "        x = self.data[index]\n",
    "        y = self.targets[index]\n",
    "\n",
    "        # Apply processing to turn the word (stored in x) into a numeric vector of 26 numbers, counting the occurences of the letters.\n",
    "        # Example: apple would become [1,0,0,0,1,0,0,0,0,0,0,1,0,0,0,2,0,0,0,0,0,0,0,0,0,0], counting 2 occurences for the letter p and zero for letters that do not occur.\n",
    "       \n",
    "        vector = [0] * 26  # Initialize a vector of size 26 with all zeros\n",
    "        for letter in x:\n",
    "            if letter not in string.ascii_lowercase:\n",
    "                raise ValueError(f\"Invalid character '{letter}' in word '{x}'\")\n",
    "            vector[ord(letter) - ord('a')] += 1  # using ord to get the index of the letter in the alphabet as an index of position in vector, then increment value\n",
    "        x = vector\n",
    "        x = torch.tensor(x, dtype=torch.float32)\n",
    "        y = torch.tensor(y, dtype=torch.long)\n",
    "        return x, y\n",
    "    "
   ]
  },
  {
   "cell_type": "markdown",
   "metadata": {},
   "source": [
    "#### Test validity of the module"
   ]
  },
  {
   "cell_type": "code",
   "execution_count": 5,
   "metadata": {},
   "outputs": [
    {
     "name": "stdout",
     "output_type": "stream",
     "text": [
      "5000\n",
      "(tensor([0., 0., 0., 0., 1., 0., 0., 1., 0., 0., 0., 0., 0., 0., 0., 0., 0., 0.,\n",
      "        0., 1., 0., 0., 0., 0., 0., 0.]), tensor(0))\n",
      "torch.Size([26])\n",
      "torch.Size([])\n",
      "the\n"
     ]
    }
   ],
   "source": [
    "dataset = AlphaDataset()\n",
    "print(len(dataset))  # Should be 5000\n",
    "print(dataset[0])    # Should return a tuple: (tensor, label)\n",
    "print(dataset[0][0].shape)  # Should be (26,)\n",
    "print(dataset[0][1].shape)  # Should be (1,)\n",
    "print(dataset.data[0])  # Should return the first word in the dataset"
   ]
  },
  {
   "cell_type": "markdown",
   "metadata": {},
   "source": [
    "### Multilayer Perceptron\n",
    "In the following section, you will implement a MLP. The goal is to implement this MLP with 1 input layer, 2 hidden layers, and 1 output layer.\n",
    "With PyTorch, the linear layer is most suitable for this. When you create a linear layer, you define the input and output size of the layer, effectively creating two linear neuron layers. This is useful to know since we only need to create 3 linear layer classes to have the 4 layers we want.\n",
    "The hidden size is stored as a list where the first value will be 256 and the second value will be 512."
   ]
  },
  {
   "cell_type": "code",
   "execution_count": 6,
   "metadata": {},
   "outputs": [],
   "source": [
    "class MLP(nn.Module):\n",
    "    def __init__(self, input_size: int, hidden_size: List[int], output_size: int) -> None:\n",
    "        super().__init__()\n",
    "        # Implement the neural network layers, the activation function is already defined\n",
    "        self.input_layer = nn.Linear(input_size, hidden_size[0])\n",
    "        self.hidden_layer = nn.Linear(hidden_size[0], hidden_size[1])\n",
    "        self.output_layer = nn.Linear(hidden_size[1], output_size)\n",
    "        self.activation = nn.ReLU()\n",
    "\n",
    "    def forward(self, x: torch.Tensor) -> torch.Tensor:\n",
    "        # In the forward pass the model will calculate the gradients as well as the probabilities of the result occuring given its input.\n",
    "        # Implement the missing layers\n",
    "\n",
    "        x = self.input_layer(x) # Implement input layer\n",
    "        x = self.activation(x)\n",
    "        x = self.hidden_layer(x) # Implement hidden layer\n",
    "        x = self.activation(x)\n",
    "        x = self.output_layer(x) # Implement the output layer\n",
    "\n",
    "        return x"
   ]
  },
  {
   "cell_type": "markdown",
   "metadata": {},
   "source": [
    "### Setting up the hyperparameters\n",
    "These are the hyperparameters used for the model, they define the layout of the model as well as the performance:\n",
    "- batch_size, defines the number of instances the model sees at one time.\n",
    "- learning_rate, defines the change rate of the gradient descent.\n",
    "- input_size, the number of input neurons for the model, the number of letters in the alphabet\n",
    "- hidden_size, the number of neurons in the hidden layer\n",
    "- output_size, the number of neurons in the output layer, for us this is the number of unqiue words"
   ]
  },
  {
   "cell_type": "code",
   "execution_count": 7,
   "metadata": {},
   "outputs": [],
   "source": [
    "batch_size = 8\n",
    "learning_rate = 1e-5\n",
    "input_size = 26\n",
    "hidden_size = [256, 512]\n",
    "output_size = 5000\n",
    "device = 'cpu' # If you have an m1 macbook use: 'mbp', if you have an NVIDIA GPU use: 'cuda:0' else leave as is"
   ]
  },
  {
   "cell_type": "markdown",
   "metadata": {},
   "source": [
    "Setting up the dataset"
   ]
  },
  {
   "cell_type": "code",
   "execution_count": 8,
   "metadata": {},
   "outputs": [],
   "source": [
    "# Define the dataset and the dataloader\n",
    "dataset = AlphaDataset()\n",
    "\n",
    "# For the final evaluation of the model we will use 20% of the data for testing. Testing is only ever done after hyperparameter tuning.\n",
    "# Split sizes (80% train, 20% test)\n",
    "train_size = int(0.8 * len(dataset))\n",
    "test_size = len(dataset) - train_size\n",
    "train_dataset, test_dataset = random_split(dataset, [train_size, test_size])\n",
    "\n",
    "# To evaluate our model we want to take 10% of the dataset for validation, this is similar to the testset, rather this data we can use during hyperparameter tuning.\n",
    "# The validation and test data is never trained on and is unseen data for the model, making it closer to a production setting.\n",
    "train_size = int(0.9 * len(train_dataset))\n",
    "val_size = len(train_dataset) - train_size\n",
    "train_dataset, val_dataset = random_split(train_dataset, [train_size, val_size])\n",
    "\n",
    "train_loader = DataLoader(train_dataset, batch_size=batch_size, shuffle=True) # Shuffling ensures the model does not overfit on ordering of the data.\n",
    "test_loader = DataLoader(test_dataset, batch_size=batch_size, shuffle=False) # This data does not need to be shuffled\n",
    "val_loader = DataLoader(val_dataset, batch_size=batch_size, shuffle=False)  #T his data does not need to be shuffled"
   ]
  },
  {
   "cell_type": "markdown",
   "metadata": {},
   "source": [
    "### Preperation for training\n",
    "Here we load the model into memory, apply it to the selected device and define the optimizer. The optimizer guides the model to the best possible state it can be in through Gradient descent.\n",
    "Lastly, the loss function is defined, this defines how well the model performs, based on this number the model knows how it should change its weights."
   ]
  },
  {
   "cell_type": "code",
   "execution_count": 9,
   "metadata": {},
   "outputs": [
    {
     "name": "stderr",
     "output_type": "stream",
     "text": [
      "/usr/local/lib/python3.11/site-packages/tqdm/auto.py:21: TqdmWarning: IProgress not found. Please update jupyter and ipywidgets. See https://ipywidgets.readthedocs.io/en/stable/user_install.html\n",
      "  from .autonotebook import tqdm as notebook_tqdm\n"
     ]
    }
   ],
   "source": [
    "model = MLP(input_size, hidden_size, output_size)\n",
    "model.to(device) # Tell de model which accelerator to use (Macbook GPU, NVIDIA GPU or CPU)\n",
    "\n",
    "# In Neural Networks optimizers handle the efficient training through gradient descent, we will use Adam\n",
    "optimizer = torch.optim.Adam(params=model.parameters(), lr=learning_rate)\n",
    "\n",
    "# The loss function defines how well the model is performing, if the loss is low the model is rewarded, if it is high the model is punished.\n",
    "# Since we are dealing with a classification task we will use Cross Entropy\n",
    "loss_fn = nn.CrossEntropyLoss()"
   ]
  },
  {
   "cell_type": "markdown",
   "metadata": {},
   "source": [
    "### Training\n",
    "In the next block the training block is already defined. This is a standard way to train the model for 50 epochs (50 times it will see the dataset). Each time it does one epoch we also go over the validationset."
   ]
  },
  {
   "cell_type": "code",
   "execution_count": 10,
   "metadata": {},
   "outputs": [
    {
     "name": "stdout",
     "output_type": "stream",
     "text": [
      "Training_loss: 8.545825958251953\n",
      "Validation_loss: 1.069791624546051\n",
      "Training_loss: 8.472640037536621\n",
      "Validation_loss: 1.0807845091819763\n",
      "Training_loss: 8.361360549926758\n",
      "Validation_loss: 1.0989296507835389\n",
      "Training_loss: 8.224590301513672\n",
      "Validation_loss: 1.1296512818336486\n",
      "Training_loss: 8.04572868347168\n",
      "Validation_loss: 1.175230004787445\n",
      "Training_loss: 7.941717147827148\n",
      "Validation_loss: 1.2318993186950684\n",
      "Training_loss: 7.761641025543213\n",
      "Validation_loss: 1.2939287114143372\n",
      "Training_loss: 7.4719929695129395\n",
      "Validation_loss: 1.357236874103546\n",
      "Training_loss: 7.459012031555176\n",
      "Validation_loss: 1.4203835105895997\n",
      "Training_loss: 7.381588935852051\n",
      "Validation_loss: 1.4833846879005432\n",
      "Training_loss: 7.579195022583008\n",
      "Validation_loss: 1.5469211983680724\n",
      "Training_loss: 7.425624847412109\n",
      "Validation_loss: 1.6118648767471313\n",
      "Training_loss: 7.056424140930176\n",
      "Validation_loss: 1.6786361598968507\n",
      "Training_loss: 7.1695027351379395\n",
      "Validation_loss: 1.747578773498535\n",
      "Training_loss: 7.079358100891113\n",
      "Validation_loss: 1.8187215328216553\n",
      "Training_loss: 6.712734222412109\n",
      "Validation_loss: 1.8922198247909545\n",
      "Training_loss: 6.714423179626465\n",
      "Validation_loss: 1.9683099603652954\n",
      "Training_loss: 6.382753849029541\n",
      "Validation_loss: 2.0467871046066284\n",
      "Training_loss: 6.191584587097168\n",
      "Validation_loss: 2.1277474308013917\n",
      "Training_loss: 6.0794830322265625\n",
      "Validation_loss: 2.211237304210663\n",
      "Training_loss: 5.823112964630127\n",
      "Validation_loss: 2.296530203819275\n",
      "Training_loss: 5.633303642272949\n",
      "Validation_loss: 2.3841538763046266\n",
      "Training_loss: 5.42075777053833\n",
      "Validation_loss: 2.473074588775635\n",
      "Training_loss: 6.177294731140137\n",
      "Validation_loss: 2.5639691734313965\n",
      "Training_loss: 5.964907169342041\n",
      "Validation_loss: 2.6568537664413454\n",
      "Training_loss: 5.200807094573975\n",
      "Validation_loss: 2.750791897773743\n",
      "Training_loss: 5.142688751220703\n",
      "Validation_loss: 2.846112833023071\n",
      "Training_loss: 5.2447967529296875\n",
      "Validation_loss: 2.942210283279419\n",
      "Training_loss: 5.049299716949463\n",
      "Validation_loss: 3.0395070028305056\n",
      "Training_loss: 4.823404788970947\n",
      "Validation_loss: 3.1377589511871338\n",
      "Training_loss: 5.066830158233643\n",
      "Validation_loss: 3.2364394998550416\n",
      "Training_loss: 4.508187294006348\n",
      "Validation_loss: 3.335956268310547\n",
      "Training_loss: 4.406001567840576\n",
      "Validation_loss: 3.4351815366744995\n",
      "Training_loss: 4.592110633850098\n",
      "Validation_loss: 3.534888172149658\n",
      "Training_loss: 4.508345603942871\n",
      "Validation_loss: 3.635421109199524\n",
      "Training_loss: 4.191359996795654\n",
      "Validation_loss: 3.7347535133361816\n",
      "Training_loss: 4.1753082275390625\n",
      "Validation_loss: 3.834247269630432\n",
      "Training_loss: 4.066251277923584\n",
      "Validation_loss: 3.9339744997024537\n",
      "Training_loss: 4.116091251373291\n",
      "Validation_loss: 4.0342730522155765\n",
      "Training_loss: 3.4285216331481934\n",
      "Validation_loss: 4.133325734138489\n",
      "Training_loss: 3.246297836303711\n",
      "Validation_loss: 4.232343802452087\n",
      "Training_loss: 3.687908411026001\n",
      "Validation_loss: 4.331799702644348\n",
      "Training_loss: 3.392618417739868\n",
      "Validation_loss: 4.430535292625427\n",
      "Training_loss: 2.9947288036346436\n",
      "Validation_loss: 4.5289562320709225\n",
      "Training_loss: 3.0631823539733887\n",
      "Validation_loss: 4.62656795501709\n",
      "Training_loss: 3.200972318649292\n",
      "Validation_loss: 4.7240292358398435\n",
      "Training_loss: 2.506904363632202\n",
      "Validation_loss: 4.820665283203125\n",
      "Training_loss: 2.85361647605896\n",
      "Validation_loss: 4.916868095397949\n",
      "Training_loss: 2.3557422161102295\n",
      "Validation_loss: 5.0134573078155515\n",
      "Training_loss: 2.5891523361206055\n",
      "Validation_loss: 5.108673028945923\n"
     ]
    }
   ],
   "source": [
    "training_losses = []\n",
    "validation_losses = []\n",
    "\n",
    "for epoch in range(50): # Train for 50 epochs\n",
    "    model.train() # Enforce model training\n",
    "    for step, (x, y) in enumerate(train_loader):\n",
    "        x = x.to(device)\n",
    "        y = y.to(device)\n",
    "\n",
    "        output = model(x)\n",
    "\n",
    "        loss = loss_fn(output, y)\n",
    "\n",
    "        training_losses.append(loss.item())\n",
    "        print(loss.item(), end='\\r')\n",
    "\n",
    "        loss.backward() # Calculate gradients\n",
    "\n",
    "        optimizer.step() # Reward the model\n",
    "        optimizer.zero_grad() # Clean the gradients\n",
    "    print('Training_loss:', loss.item())\n",
    "\n",
    "    model.eval() # After every training epoch we want to see the model's performance on the validation data\n",
    "    with torch.no_grad(): # In validation we dont need gradients so we tell torch to not calculate them\n",
    "        total_val_loss = 0\n",
    "        for step, (x, y) in enumerate(val_loader):\n",
    "            x = x.to(device)\n",
    "            y = y.to(device)\n",
    "\n",
    "            output = model(x)\n",
    "\n",
    "            loss = loss_fn(output, y)\n",
    "\n",
    "            total_val_loss += loss.item()\n",
    "\n",
    "        validation_losses.append(total_val_loss / len(val_dataset))\n",
    "        print('Validation_loss:', validation_losses[-1])"
   ]
  },
  {
   "cell_type": "markdown",
   "metadata": {},
   "source": [
    "### Writing\n",
    "Below we can print the training statistics, the training loss should be going down while the validation loss should be going up. What does it mean that the validation loss increases?\n",
    "\n",
    "#### Answer:\n",
    "The validation loss increasing while the training loss decreases signals that the model with initial random weights and biases performs the best on the validation set, better than any future model that was updated during training. Training actually made the performance of the model on the validation set worse, indicating that it never learns any useful patterns for generalization. This occurs because the bag-of-letters representation creates fundamental ambiguities. Many different words map to identical input vectors (e.g. \"tea\" and \"eat\"), forcing the model to learn training-set-specific mappings that don't transfer to the validation set. The training loss continuously decreasing aligns with this assessment. Each training step moves the model further away from the accidentally useful parameters toward training-specific memorization, resulting in a highly overfitted model."
   ]
  },
  {
   "cell_type": "code",
   "execution_count": 11,
   "metadata": {},
   "outputs": [
    {
     "data": {
      "image/png": "[encoded data removed]",
      "text/plain": [
       "<Figure size 960x720 with 1 Axes>"
      ]
     },
     "metadata": {},
     "output_type": "display_data"
    }
   ],
   "source": [
    "plt.rcParams['figure.dpi'] = 150\n",
    "plt.plot(training_losses)\n",
    "plt.xlabel('steps')\n",
    "plt.ylabel('loss')\n",
    "plt.title('Training Loss')\n",
    "plt.savefig('./results/training_loss.png')"
   ]
  },
  {
   "cell_type": "code",
   "execution_count": 12,
   "metadata": {},
   "outputs": [
    {
     "data": {
      "image/png": "[encoded data removed]",
      "text/plain": [
       "<Figure size 960x720 with 1 Axes>"
      ]
     },
     "metadata": {},
     "output_type": "display_data"
    }
   ],
   "source": [
    "plt.plot(validation_losses)\n",
    "plt.xlabel('steps')\n",
    "plt.ylabel('loss')\n",
    "plt.title('Validation Loss')\n",
    "plt.savefig('./results/validation_loss.png')"
   ]
  },
  {
   "cell_type": "markdown",
   "metadata": {},
   "source": [
    "### Writing\n",
    "Below we want to analyze how the model functions based on the test data. What stands out from these results? Was the result correct? What is the main difference between the words?\n",
    "\n",
    "#### Answer:\n",
    "This example points to a fundamental flaw of the input representation. The input does not encode the position of the letters, it merely counts their presence. For instance, \"charter\" and \"rather\" share a very similar word vector that only differentiates at the position for 'c', where \"charter\" will encode a one and \"rather\" a zero. Having never encountered the word \"rather\" during training, the model likely learned to assign very low probabilities to such classes that were not present in the training set. Therefore predicting the word with the most similar word vector (\"charter\") that it did see. This phenomenon can be observed for all other words."
   ]
  },
  {
   "cell_type": "code",
   "execution_count": 13,
   "metadata": {},
   "outputs": [
    {
     "name": "stdout",
     "output_type": "stream",
     "text": [
      "target: rather           predicted: charter\n",
      "target: private          predicted: privately\n",
      "target: novel            predicted: lemon\n",
      "target: cooperate        predicted: operate\n",
      "target: preliminary      predicted: kremlin\n",
      "target: order            predicted: recorded\n",
      "target: advertising      predicted: investigations\n",
      "target: created          predicted: exacerbated\n",
      "target: elect            predicted: elected\n",
      "target: texans           predicted: absent\n"
     ]
    },
    {
     "name": "stderr",
     "output_type": "stream",
     "text": [
      "/var/folders/l9/ktthm47x39n329gvdz4tbyyw0000gn/T/ipykernel_53076/2019737341.py:7: UserWarning: Implicit dimension choice for softmax has been deprecated. Change the call to include dim=X as an argument.\n",
      "  out = [nn.functional.softmax(model(wrd)).argmax() for wrd in x]\n"
     ]
    }
   ],
   "source": [
    "def get_n_words(dataset, n, model, ds, verbose = True):\n",
    "    if n == -1:\n",
    "        n = len(dataset)\n",
    "    x = [dataset.__getitem__(i)[0] for i in range(n)]\n",
    "    y = [dataset.__getitem__(i)[1] for i in range(n)]\n",
    "    target_words = [{idx: word for word, idx in ds.word_to_idx.items()}[_.item()] for _ in y]\n",
    "    out = [nn.functional.softmax(model(wrd)).argmax() for wrd in x]\n",
    "    predicted_words = [{idx: word for word, idx in ds.word_to_idx.items()}[_.item()] for _ in out]\n",
    "    width = max(len(word) for word in target_words) + 5\n",
    "    if verbose:\n",
    "        print('\\n'.join([f'target: {t.ljust(width)} predicted: {p}' for t, p in zip(target_words, predicted_words)]))\n",
    "    return target_words, predicted_words\n",
    "\n",
    "_,_ = get_n_words(test_dataset, 10, model, dataset)"
   ]
  },
  {
   "cell_type": "markdown",
   "metadata": {},
   "source": [
    "Why are some words incorrectly predicted?\n",
    "\n",
    "#### Answer:\n",
    "Words are incorrectly predicted because their set of letters have a large intersection. Words such as \"tea\" and \"eat\" are represented as the same vector, despite their semantic difference. In simple words, the arrangement of letters matters for their meaning. Most target and prediction pairs share a lot of overlapping characters. Some pairs, like \"private\" and \"privately\" are even complete subsets to each other. Since the alphabetic representation discards positional information and only counts letter frequencies, words with similar character compositions become indistinguishable to the model, regardless of their semantic differences."
   ]
  },
  {
   "cell_type": "markdown",
   "metadata": {},
   "source": [
    "### Code + Written\n",
    "Research the Jaccard similarity metric for calculating the difference between the predicted word and the target word. Reference your sources and implement this metric in your code below. You can use the get_n_words function with n=-1 to get all the predicted and target words. Compare this method to similarity as measured with one of the word vector methods from A2, in writing and/or code.\n",
    "\n",
    "#### Answer:\n",
    "The Jaccard similarity is a set-based metric that measures the similarity between two sets by dividing the size of their intersection by the size of their union: J(A,B) = |A ∩ B| / |A ∪ B| [1]. For words, this translates to counting shared characters divided by total unique characters across both words. The results show fundamentally different patterns between Jaccard and cosine similarity metrics. Jaccard similarity measures character overlap, capturing how many letters two words share regardless of meaning, while cosine similarity from word vectors measures semantic similarity based on contextual co-occurrence patterns learned from large text corpora. For example, \"elect\" and \"elected\" show high Jaccard similarity (0.714) due to shared characters but low cosine similarity (0.275) because they function differently grammatically.\n",
    "\n",
    "#### Reference:\n",
    "[1] \"Jaccard Similarity\" GeeksforGeeks, Available: https://www.geeksforgeeks.org/jaccard-similarity/"
   ]
  },
  {
   "cell_type": "code",
   "execution_count": 31,
   "metadata": {},
   "outputs": [
    {
     "name": "stdout",
     "output_type": "stream",
     "text": [
      "target: rather               predicted: charter              jaccard similarity: 0.857\n",
      "target: private              predicted: privately            jaccard similarity: 0.778\n",
      "target: novel                predicted: lemon                jaccard similarity: 0.667\n",
      "target: cooperate            predicted: operate              jaccard similarity: 0.778\n",
      "target: preliminary          predicted: kremlin              jaccard similarity: 0.500\n",
      "target: order                predicted: recorded             jaccard similarity: 0.625\n",
      "target: advertising          predicted: investigations       jaccard similarity: 0.562\n",
      "target: created              predicted: exacerbated          jaccard similarity: 0.636\n",
      "target: elect                predicted: elected              jaccard similarity: 0.714\n",
      "target: texans               predicted: absent               jaccard similarity: 0.714\n"
     ]
    },
    {
     "name": "stderr",
     "output_type": "stream",
     "text": [
      "/var/folders/l9/ktthm47x39n329gvdz4tbyyw0000gn/T/ipykernel_53076/2019737341.py:7: UserWarning: Implicit dimension choice for softmax has been deprecated. Change the call to include dim=X as an argument.\n",
      "  out = [nn.functional.softmax(model(wrd)).argmax() for wrd in x]\n"
     ]
    }
   ],
   "source": [
    "# Method 1 - Jaccard similarity\n",
    "from collections import Counter\n",
    "\n",
    "def jaccard_similarity(target, prediction):\n",
    "    target = Counter(target)\n",
    "    prediction = Counter(prediction)\n",
    "\n",
    "    intersection = sum((target & prediction).values())\n",
    "    union = sum((target | prediction).values())\n",
    "\n",
    "    return intersection / union # common occurances / total occurances\n",
    "\n",
    "# Jaccard similarity for the first ten words\n",
    "target_words, predicted_words = get_n_words(test_dataset, 10, model, dataset, verbose=False)\n",
    "print('\\n'.join([f'target: {t:<20} predicted: {p:<20} jaccard similarity: {jaccard_similarity(t, p):.3f}' \n",
    "                 for t, p in zip(target_words, predicted_words)]))"
   ]
  },
  {
   "cell_type": "code",
   "execution_count": null,
   "metadata": {},
   "outputs": [],
   "source": [
    "# Method 2 - Cosine similarity\n",
    "import gensim.downloader as api\n",
    "wv_from_bin = api.load(\"glove-wiki-gigaword-200\")\n",
    "print(\"Loaded vocab size %i\" % len(list(wv_from_bin.index_to_key)))"
   ]
  },
  {
   "cell_type": "code",
   "execution_count": 32,
   "metadata": {},
   "outputs": [
    {
     "name": "stdout",
     "output_type": "stream",
     "text": [
      "target: rather               predicted: charter              cosine similarity: 0.711\n",
      "target: private              predicted: privately            cosine similarity: 0.382\n",
      "target: novel                predicted: lemon                cosine similarity: 0.888\n",
      "target: cooperate            predicted: operate              cosine similarity: 0.644\n",
      "target: preliminary          predicted: kremlin              cosine similarity: 0.837\n",
      "target: order                predicted: recorded             cosine similarity: 0.786\n",
      "target: advertising          predicted: investigations       cosine similarity: 0.775\n",
      "target: created              predicted: exacerbated          cosine similarity: 0.750\n",
      "target: elect                predicted: elected              cosine similarity: 0.275\n",
      "target: texans               predicted: absent               cosine similarity: 0.883\n"
     ]
    },
    {
     "name": "stderr",
     "output_type": "stream",
     "text": [
      "/var/folders/l9/ktthm47x39n329gvdz4tbyyw0000gn/T/ipykernel_53076/2019737341.py:7: UserWarning: Implicit dimension choice for softmax has been deprecated. Change the call to include dim=X as an argument.\n",
      "  out = [nn.functional.softmax(model(wrd)).argmax() for wrd in x]\n"
     ]
    }
   ],
   "source": [
    "def cosine_similarity(target, prediction):\n",
    "    return wv_from_bin.distance(target, prediction)\n",
    "\n",
    "# Cosine similarity for the first ten words\n",
    "target_words, predicted_words = get_n_words(test_dataset, 10, model, dataset, verbose=False)\n",
    "print('\\n'.join([f'target: {t:<20} predicted: {p:<20} cosine similarity: {cosine_similarity(t, p):.3f}' \n",
    "                 for t, p in zip(target_words, predicted_words)]))"
   ]
  },
  {
   "cell_type": "markdown",
   "metadata": {},
   "source": [
    "\n",
    "\n",
    "\n",
    "\n",
    "\n",
    "\n",
    "\n",
    "\n",
    " "
   ]
  }
 ],
 "metadata": {
  "kernelspec": {
   "display_name": "Python 3 (ipykernel)",
   "language": "python",
   "name": "python3"
  },
  "language_info": {
   "codemirror_mode": {
    "name": "ipython",
    "version": 3
   },
   "file_extension": ".py",
   "mimetype": "text/x-python",
   "name": "python",
   "nbconvert_exporter": "python",
   "pygments_lexer": "ipython3",
   "version": "3.11.10"
  }
 },
 "nbformat": 4,
 "nbformat_minor": 4
}
